{
 "cells": [
  {
   "cell_type": "code",
   "execution_count": 1,
   "metadata": {
    "collapsed": false
   },
   "outputs": [
    {
     "name": "stdout",
     "output_type": "stream",
     "text": [
      "LICENSE    Untitled.ipynb  datasets  setupspark.sh  streaming\r\n",
      "README.md  commandline.md  pig\t     spark\r\n"
     ]
    }
   ],
   "source": [
    "!ls"
   ]
  },
  {
   "cell_type": "code",
   "execution_count": 2,
   "metadata": {
    "collapsed": false
   },
   "outputs": [
    {
     "name": "stdout",
     "output_type": "stream",
     "text": [
      "1;aircraft;flight_date;damage;airline;state;phase_of_flight;reported_date;bird_size;cost;feet_above_ground\r",
      "\r\n",
      "2;Airplane;2000-01-01;No damage;CONTINENTAL AIRLINES;New Jersey;Take-off run;;Medium;0;0\r",
      "\r\n",
      "3;Airplane;2000-01-01;No damage;UNITED AIRLINES;;;;Medium;0;\r",
      "\r\n",
      "4;Airplane;2000-01-01;No damage;UNITED AIRLINES;Colorado;Climb;;Medium;0;\r",
      "\r\n",
      "5;Airplane;2000-01-01;No damage;UNITED AIRLINES;Illinois;Approach;;Medium;0;\r",
      "\r\n",
      "6;;2000-01-01;No damage;UNKNOWN;New York;;;Medium;0;\r",
      "\r\n",
      "7;Airplane;2000-01-01;Caused damage;US CUSTOMS AND BORDER PROTECTION;Florida;En Route;;Large;0;1000\r",
      "\r\n",
      "8;Airplane;2000-01-01;No damage;AMERICAN AIRLINES;;Take-off run;2000-01-01;Small;0;0\r",
      "\r\n",
      "9;Airplane;2000-01-02;No damage;BUSINESS;Ohio;Landing Roll;;Small;0;0\r",
      "\r\n",
      "10;Airplane;2000-01-02;No damage;BUSINESS;Florida;Approach;;Medium;0;2000\r",
      "\r\n",
      "cat: write error: Broken pipe\r\n"
     ]
    }
   ],
   "source": [
    "!cat /Users/zoltanctoth/bsql.csv | head"
   ]
  },
  {
   "cell_type": "code",
   "execution_count": null,
   "metadata": {
    "collapsed": true
   },
   "outputs": [],
   "source": []
  }
 ],
 "metadata": {
  "kernelspec": {
   "display_name": "Python 2",
   "language": "python",
   "name": "python2"
  },
  "language_info": {
   "codemirror_mode": {
    "name": "ipython",
    "version": 2
   },
   "file_extension": ".py",
   "mimetype": "text/x-python",
   "name": "python",
   "nbconvert_exporter": "python",
   "pygments_lexer": "ipython2",
   "version": "2.7.10"
  }
 },
 "nbformat": 4,
 "nbformat_minor": 0
}
