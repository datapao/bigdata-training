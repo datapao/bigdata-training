{
 "cells": [
  {
   "cell_type": "markdown",
   "metadata": {},
   "source": [
    "Spark ML\n",
    "-------\n",
    "\n",
    "Read training and test data. In this case test data is labeled as well (we will generate our label based on the `arrdelay` field) "
   ]
  },
  {
   "cell_type": "code",
   "execution_count": 15,
   "metadata": {
    "collapsed": false
   },
   "outputs": [],
   "source": [
    "training = sqlContext.read.parquet(\"data/training.parquet\")\n",
    "test = sqlContext.read.parquet(\"data/test.parquet\")\n"
   ]
  },
  {
   "cell_type": "code",
   "execution_count": 16,
   "metadata": {
    "collapsed": false
   },
   "outputs": [
    {
     "name": "stdout",
     "output_type": "stream",
     "text": [
      "root\n",
      " |-- year: integer (nullable = true)\n",
      " |-- month: integer (nullable = true)\n",
      " |-- dayofmonth: integer (nullable = true)\n",
      " |-- dayofweek: integer (nullable = true)\n",
      " |-- deptime: integer (nullable = true)\n",
      " |-- crsdeptime: integer (nullable = true)\n",
      " |-- arrtime: integer (nullable = true)\n",
      " |-- crsarrtime: integer (nullable = true)\n",
      " |-- actualelapsetime: integer (nullable = true)\n",
      " |-- crselapsetime: integer (nullable = true)\n",
      " |-- airtime: integer (nullable = true)\n",
      " |-- arrdelay: integer (nullable = true)\n",
      " |-- depdelay: integer (nullable = true)\n",
      " |-- distance: integer (nullable = true)\n",
      " |-- taxiin: integer (nullable = true)\n",
      " |-- taxiout: integer (nullable = true)\n",
      " |-- cancelled: integer (nullable = true)\n",
      " |-- diverted: integer (nullable = true)\n",
      " |-- carrierdelay: integer (nullable = true)\n",
      " |-- weatherdelay: integer (nullable = true)\n",
      " |-- nasdelay: integer (nullable = true)\n",
      " |-- securitydelay: integer (nullable = true)\n",
      " |-- lateaircraftdelay: integer (nullable = true)\n",
      "\n"
     ]
    }
   ],
   "source": [
    "test.printSchema()"
   ]
  },
  {
   "cell_type": "code",
   "execution_count": 18,
   "metadata": {
    "collapsed": false
   },
   "outputs": [
    {
     "data": {
      "text/plain": [
       "Row(year=2006, month=2, dayofmonth=21, dayofweek=2, deptime=902, crsdeptime=905, arrtime=1027, crsarrtime=1030, actualelapsetime=205, crselapsetime=205, airtime=190, arrdelay=-3, depdelay=-3, distance=1162, taxiin=7, taxiout=8, cancelled=0, diverted=0, carrierdelay=0, weatherdelay=0, nasdelay=0, securitydelay=0, lateaircraftdelay=0)"
      ]
     },
     "execution_count": 18,
     "metadata": {},
     "output_type": "execute_result"
    }
   ],
   "source": [
    "test.first()"
   ]
  },
  {
   "cell_type": "markdown",
   "metadata": {},
   "source": [
    "Generate label column for the training data"
   ]
  },
  {
   "cell_type": "code",
   "execution_count": 19,
   "metadata": {
    "collapsed": false
   },
   "outputs": [],
   "source": [
    "from pyspark.sql.types import DoubleType\n",
    "from pyspark.sql.functions import udf\n",
    "\n",
    "is_late = udf(lambda delay: 1.0 if delay > 0 else 0.0, DoubleType())\n",
    "training = training.withColumn(\"is_late\",is_late(training.arrdelay))\n"
   ]
  },
  {
   "cell_type": "markdown",
   "metadata": {},
   "source": [
    "Create and fit Spark ML model"
   ]
  },
  {
   "cell_type": "code",
   "execution_count": 21,
   "metadata": {
    "collapsed": false
   },
   "outputs": [],
   "source": [
    "from pyspark.ml.classification import LogisticRegression\n",
    "from pyspark.ml.feature import VectorAssembler\n",
    "from pyspark.ml import Pipeline\n",
    "\n",
    "# Create feature vectors. Ignore arr_delay and it's derivate, is_late\n",
    "feature_assembler = VectorAssembler(\n",
    "    inputCols=[x for x in training.columns if x not in [\"is_late\",\"arrdelay\"]],\n",
    "    outputCol=\"features\")\n",
    "\n",
    "reg = LogisticRegression().setParams(\n",
    "    maxIter = 100,\n",
    "    labelCol=\"is_late\",\n",
    "    predictionCol=\"prediction\")\n",
    "\n",
    "model = Pipeline(stages=[feature_assembler, reg]).fit(training)\n"
   ]
  },
  {
   "cell_type": "code",
   "execution_count": 20,
   "metadata": {
    "collapsed": false
   },
   "outputs": [
    {
     "data": {
      "text/plain": [
       "['year',\n",
       " 'month',\n",
       " 'dayofmonth',\n",
       " 'dayofweek',\n",
       " 'deptime',\n",
       " 'crsdeptime',\n",
       " 'arrtime',\n",
       " 'crsarrtime',\n",
       " 'actualelapsetime',\n",
       " 'crselapsetime',\n",
       " 'airtime',\n",
       " 'depdelay',\n",
       " 'distance',\n",
       " 'taxiin',\n",
       " 'taxiout',\n",
       " 'cancelled',\n",
       " 'diverted',\n",
       " 'carrierdelay',\n",
       " 'weatherdelay',\n",
       " 'nasdelay',\n",
       " 'securitydelay',\n",
       " 'lateaircraftdelay']"
      ]
     },
     "execution_count": 20,
     "metadata": {},
     "output_type": "execute_result"
    }
   ],
   "source": [
    "[x for x in training.columns if x not in [\"is_late\",\"arrdelay\"]]"
   ]
  },
  {
   "cell_type": "code",
   "execution_count": null,
   "metadata": {
    "collapsed": false
   },
   "outputs": [],
   "source": []
  },
  {
   "cell_type": "markdown",
   "metadata": {},
   "source": [
    "Predict whether the aircraft will be late"
   ]
  },
  {
   "cell_type": "code",
   "execution_count": 22,
   "metadata": {
    "collapsed": false
   },
   "outputs": [],
   "source": [
    "predicted = model.transform(test)"
   ]
  },
  {
   "cell_type": "code",
   "execution_count": 23,
   "metadata": {
    "collapsed": false
   },
   "outputs": [
    {
     "name": "stdout",
     "output_type": "stream",
     "text": [
      "+----+-----+----------+---------+-------+----------+-------+----------+----------------+-------------+-------+--------+--------+--------+------+-------+---------+--------+------------+------------+--------+-------------+-----------------+--------------------+--------------------+--------------------+----------+\n",
      "|year|month|dayofmonth|dayofweek|deptime|crsdeptime|arrtime|crsarrtime|actualelapsetime|crselapsetime|airtime|arrdelay|depdelay|distance|taxiin|taxiout|cancelled|diverted|carrierdelay|weatherdelay|nasdelay|securitydelay|lateaircraftdelay|            features|       rawPrediction|         probability|prediction|\n",
      "+----+-----+----------+---------+-------+----------+-------+----------+----------------+-------------+-------+--------+--------+--------+------+-------+---------+--------+------------+------------+--------+-------------+-----------------+--------------------+--------------------+--------------------+----------+\n",
      "|2006|    2|        21|        2|    902|       905|   1027|      1030|             205|          205|    190|      -3|      -3|    1162|     7|      8|        0|       0|           0|           0|       0|            0|                0|[2006.0,2.0,21.0,...|[0.75595747136043...|[0.68047541434396...|       0.0|\n",
      "|2005|    7|        26|        2|   2147|      2130|   2338|      2340|             111|          130|     98|      -2|      17|     737|     3|     10|        0|       0|           0|           0|       0|            0|                0|[2005.0,7.0,26.0,...|[0.10038430116296...|[0.52507502206005...|       0.0|\n",
      "|2006|    2|        16|        4|   1038|      1025|   1346|      1353|             128|          148|    118|      -7|      13|    1038|     3|      7|        0|       0|           0|           0|       0|            0|                0|[2006.0,2.0,16.0,...|[0.59474584225762...|[0.64445331985803...|       0.0|\n",
      "|2006|   11|         3|        5|   1131|      1130|   1545|      1550|             194|          200|    169|      -5|       1|    1444|     5|     20|        0|       0|           0|           0|       0|            0|                0|[2006.0,11.0,3.0,...|[0.33650329872936...|[0.58334088313174...|       0.0|\n",
      "|2005|    2|        10|        4|   1438|      1435|   1846|      1805|             188|          150|    136|      41|       3|     946|     6|     46|        0|       0|           0|           0|      41|            0|                0|[2005.0,2.0,10.0,...|[-1.7967604665385...|[0.14224586889189...|       1.0|\n",
      "|2005|    9|        22|        4|   1324|      1323|   1622|      1626|             178|          183|    158|      -4|       1|    1145|     6|     14|        0|       0|           0|           0|       0|            0|                0|[2005.0,9.0,22.0,...|[0.43430169698074...|[0.60690040475391...|       0.0|\n",
      "|2006|    8|         1|        2|    624|       624|   1052|      1048|             208|          204|    190|       4|       0|    1501|     2|     16|        0|       0|           0|           0|       0|            0|                0|[2006.0,8.0,1.0,2...|[0.57520949895389...|[0.63996436880183...|       0.0|\n",
      "|2006|    9|        19|        2|   1354|      1325|   1651|      1610|             117|          105|     86|      41|      29|     552|    17|     14|        0|       0|          29|           0|      12|            0|                0|[2006.0,9.0,19.0,...|[-0.8262033756838...|[0.30444844436252...|       1.0|\n",
      "|2007|    5|         7|        1|   1345|      1345|   1633|      1623|             168|          158|    143|      10|       0|     930|     5|     20|        0|       0|           0|           0|       0|            0|                0|[2007.0,5.0,7.0,1...|[0.21298482279816...|[0.55304583268858...|       0.0|\n",
      "|2008|   12|         3|        3|   1736|      1715|   1844|      1815|              68|           60|     47|      29|      21|     190|    14|      7|        0|       0|           0|           0|       8|            0|               21|[2008.0,12.0,3.0,...|[-0.2252103760178...|[0.44393417612962...|       1.0|\n",
      "|2005|    3|         6|        7|   2042|      2030|   2119|      2105|              97|           95|     76|      14|      12|     575|     4|     17|        0|       0|           0|           0|       0|            0|                0|[2005.0,3.0,6.0,7...|[0.01849917836531...|[0.50462466270456...|       0.0|\n",
      "|2003|    7|        18|        5|   1810|      1817|   1935|      2002|             145|          165|    130|     -27|      -7|     925|     6|      9|        0|       0|           0|           0|       0|            0|                0|[2003.0,7.0,18.0,...|[0.68704951087341...|[0.66531025466928...|       0.0|\n",
      "|2005|   10|        10|        1|   1712|      1657|   1912|      1904|             240|          247|    212|       8|      15|    1557|    11|     17|        0|       0|           0|           0|       0|            0|                0|[2005.0,10.0,10.0...|[-0.0815396608142...|[0.47962637175193...|       1.0|\n",
      "|2006|   10|         1|        7|   1448|      1448|   1548|      1600|              60|           72|     46|     -12|       0|     229|     2|     12|        0|       0|           0|           0|       0|            0|                0|[2006.0,10.0,1.0,...|[0.67406810508180...|[0.66241347664364...|       0.0|\n",
      "|2004|    5|         2|        7|    810|       810|    931|       939|              81|           89|     68|      -8|       0|     500|     2|     11|        0|       0|           0|           0|       0|            0|                0|[2004.0,5.0,2.0,7...|[0.85305776081439...|[0.70120818394559...|       0.0|\n",
      "|2008|    4|         4|        5|   1115|      1010|   1359|      1132|             164|           82|     70|     147|      65|     395|     4|     90|        0|       0|          65|           0|      82|            0|                0|[2008.0,4.0,4.0,5...|[-6.3209062697130...|[0.00179508488638...|       1.0|\n",
      "|2005|    1|        16|        7|   1305|      1305|   1427|      1431|              82|           86|     65|      -4|       0|     489|     4|     13|        0|       0|           0|           0|       0|            0|                0|[2005.0,1.0,16.0,...|[0.58981194251394...|[0.64332199541140...|       0.0|\n",
      "|2007|   12|         9|        7|   1634|      1635|   1943|      1928|             189|          173|    137|      15|      -1|    1028|    39|     13|        0|       0|           0|           0|      15|            0|                0|[2007.0,12.0,9.0,...|[0.02920324906575...|[0.50730029344818...|       0.0|\n",
      "|2004|    9|        17|        5|   1758|      1800|   1921|      1932|              83|           92|     68|     -11|      -2|     334|     8|      7|        0|       0|           0|           0|       0|            0|                0|[2004.0,9.0,17.0,...|[0.69985325368104...|[0.66815523581717...|       0.0|\n",
      "|2007|    2|        26|        1|   1654|      1445|   2041|      1823|             167|          158|    157|     138|     129|    1088|     3|      7|        0|       0|           5|           0|      23|            0|              110|[2007.0,2.0,26.0,...|[-4.2597873929270...|[0.01392856006835...|       1.0|\n",
      "+----+-----+----------+---------+-------+----------+-------+----------+----------------+-------------+-------+--------+--------+--------+------+-------+---------+--------+------------+------------+--------+-------------+-----------------+--------------------+--------------------+--------------------+----------+\n",
      "only showing top 20 rows\n",
      "\n"
     ]
    }
   ],
   "source": [
    "predicted.show()"
   ]
  },
  {
   "cell_type": "code",
   "execution_count": 24,
   "metadata": {
    "collapsed": false
   },
   "outputs": [
    {
     "ename": "AnalysisException",
     "evalue": "u\"cannot resolve 'is_late' given input columns: [crselapsetime, dayofweek, taxiout, month, probability, carrierdelay, prediction, nasdelay, dayofmonth, lateaircraftdelay, rawPrediction, crsdeptime, airtime, year, securitydelay, cancelled, arrdelay, weatherdelay, actualelapsetime, arrtime, diverted, distance, features, depdelay, crsarrtime, deptime, taxiin];\"",
     "output_type": "error",
     "traceback": [
      "\u001b[0;31m---------------------------------------------------------------------------\u001b[0m",
      "\u001b[0;31mAnalysisException\u001b[0m                         Traceback (most recent call last)",
      "\u001b[0;32m<ipython-input-24-eadcb64d2c30>\u001b[0m in \u001b[0;36m<module>\u001b[0;34m()\u001b[0m\n\u001b[0;32m----> 1\u001b[0;31m \u001b[0mpredicted\u001b[0m\u001b[0;34m.\u001b[0m\u001b[0mselect\u001b[0m\u001b[0;34m(\u001b[0m\u001b[0;34m\"is_late\"\u001b[0m\u001b[0;34m,\u001b[0m \u001b[0;34m\"prediction\"\u001b[0m\u001b[0;34m)\u001b[0m\u001b[0;34m.\u001b[0m\u001b[0mshow\u001b[0m\u001b[0;34m(\u001b[0m\u001b[0;34m)\u001b[0m\u001b[0;34m\u001b[0m\u001b[0m\n\u001b[0m",
      "\u001b[0;32m/opt/spark-1.6.1/python/pyspark/sql/dataframe.pyc\u001b[0m in \u001b[0;36mselect\u001b[0;34m(self, *cols)\u001b[0m\n\u001b[1;32m    860\u001b[0m         \u001b[0;34m[\u001b[0m\u001b[0mRow\u001b[0m\u001b[0;34m(\u001b[0m\u001b[0mname\u001b[0m\u001b[0;34m=\u001b[0m\u001b[0;34mu'Alice'\u001b[0m\u001b[0;34m,\u001b[0m \u001b[0mage\u001b[0m\u001b[0;34m=\u001b[0m\u001b[0;36m12\u001b[0m\u001b[0;34m)\u001b[0m\u001b[0;34m,\u001b[0m \u001b[0mRow\u001b[0m\u001b[0;34m(\u001b[0m\u001b[0mname\u001b[0m\u001b[0;34m=\u001b[0m\u001b[0;34mu'Bob'\u001b[0m\u001b[0;34m,\u001b[0m \u001b[0mage\u001b[0m\u001b[0;34m=\u001b[0m\u001b[0;36m15\u001b[0m\u001b[0;34m)\u001b[0m\u001b[0;34m]\u001b[0m\u001b[0;34m\u001b[0m\u001b[0m\n\u001b[1;32m    861\u001b[0m         \"\"\"\n\u001b[0;32m--> 862\u001b[0;31m         \u001b[0mjdf\u001b[0m \u001b[0;34m=\u001b[0m \u001b[0mself\u001b[0m\u001b[0;34m.\u001b[0m\u001b[0m_jdf\u001b[0m\u001b[0;34m.\u001b[0m\u001b[0mselect\u001b[0m\u001b[0;34m(\u001b[0m\u001b[0mself\u001b[0m\u001b[0;34m.\u001b[0m\u001b[0m_jcols\u001b[0m\u001b[0;34m(\u001b[0m\u001b[0;34m*\u001b[0m\u001b[0mcols\u001b[0m\u001b[0;34m)\u001b[0m\u001b[0;34m)\u001b[0m\u001b[0;34m\u001b[0m\u001b[0m\n\u001b[0m\u001b[1;32m    863\u001b[0m         \u001b[0;32mreturn\u001b[0m \u001b[0mDataFrame\u001b[0m\u001b[0;34m(\u001b[0m\u001b[0mjdf\u001b[0m\u001b[0;34m,\u001b[0m \u001b[0mself\u001b[0m\u001b[0;34m.\u001b[0m\u001b[0msql_ctx\u001b[0m\u001b[0;34m)\u001b[0m\u001b[0;34m\u001b[0m\u001b[0m\n\u001b[1;32m    864\u001b[0m \u001b[0;34m\u001b[0m\u001b[0m\n",
      "\u001b[0;32m/opt/spark-1.6.1/python/lib/py4j-0.9-src.zip/py4j/java_gateway.py\u001b[0m in \u001b[0;36m__call__\u001b[0;34m(self, *args)\u001b[0m\n\u001b[1;32m    811\u001b[0m         \u001b[0manswer\u001b[0m \u001b[0;34m=\u001b[0m \u001b[0mself\u001b[0m\u001b[0;34m.\u001b[0m\u001b[0mgateway_client\u001b[0m\u001b[0;34m.\u001b[0m\u001b[0msend_command\u001b[0m\u001b[0;34m(\u001b[0m\u001b[0mcommand\u001b[0m\u001b[0;34m)\u001b[0m\u001b[0;34m\u001b[0m\u001b[0m\n\u001b[1;32m    812\u001b[0m         return_value = get_return_value(\n\u001b[0;32m--> 813\u001b[0;31m             answer, self.gateway_client, self.target_id, self.name)\n\u001b[0m\u001b[1;32m    814\u001b[0m \u001b[0;34m\u001b[0m\u001b[0m\n\u001b[1;32m    815\u001b[0m         \u001b[0;32mfor\u001b[0m \u001b[0mtemp_arg\u001b[0m \u001b[0;32min\u001b[0m \u001b[0mtemp_args\u001b[0m\u001b[0;34m:\u001b[0m\u001b[0;34m\u001b[0m\u001b[0m\n",
      "\u001b[0;32m/opt/spark-1.6.1/python/pyspark/sql/utils.pyc\u001b[0m in \u001b[0;36mdeco\u001b[0;34m(*a, **kw)\u001b[0m\n\u001b[1;32m     49\u001b[0m                                              e.java_exception.getStackTrace()))\n\u001b[1;32m     50\u001b[0m             \u001b[0;32mif\u001b[0m \u001b[0ms\u001b[0m\u001b[0;34m.\u001b[0m\u001b[0mstartswith\u001b[0m\u001b[0;34m(\u001b[0m\u001b[0;34m'org.apache.spark.sql.AnalysisException: '\u001b[0m\u001b[0;34m)\u001b[0m\u001b[0;34m:\u001b[0m\u001b[0;34m\u001b[0m\u001b[0m\n\u001b[0;32m---> 51\u001b[0;31m                 \u001b[0;32mraise\u001b[0m \u001b[0mAnalysisException\u001b[0m\u001b[0;34m(\u001b[0m\u001b[0ms\u001b[0m\u001b[0;34m.\u001b[0m\u001b[0msplit\u001b[0m\u001b[0;34m(\u001b[0m\u001b[0;34m': '\u001b[0m\u001b[0;34m,\u001b[0m \u001b[0;36m1\u001b[0m\u001b[0;34m)\u001b[0m\u001b[0;34m[\u001b[0m\u001b[0;36m1\u001b[0m\u001b[0;34m]\u001b[0m\u001b[0;34m,\u001b[0m \u001b[0mstackTrace\u001b[0m\u001b[0;34m)\u001b[0m\u001b[0;34m\u001b[0m\u001b[0m\n\u001b[0m\u001b[1;32m     52\u001b[0m             \u001b[0;32mif\u001b[0m \u001b[0ms\u001b[0m\u001b[0;34m.\u001b[0m\u001b[0mstartswith\u001b[0m\u001b[0;34m(\u001b[0m\u001b[0;34m'java.lang.IllegalArgumentException: '\u001b[0m\u001b[0;34m)\u001b[0m\u001b[0;34m:\u001b[0m\u001b[0;34m\u001b[0m\u001b[0m\n\u001b[1;32m     53\u001b[0m                 \u001b[0;32mraise\u001b[0m \u001b[0mIllegalArgumentException\u001b[0m\u001b[0;34m(\u001b[0m\u001b[0ms\u001b[0m\u001b[0;34m.\u001b[0m\u001b[0msplit\u001b[0m\u001b[0;34m(\u001b[0m\u001b[0;34m': '\u001b[0m\u001b[0;34m,\u001b[0m \u001b[0;36m1\u001b[0m\u001b[0;34m)\u001b[0m\u001b[0;34m[\u001b[0m\u001b[0;36m1\u001b[0m\u001b[0;34m]\u001b[0m\u001b[0;34m,\u001b[0m \u001b[0mstackTrace\u001b[0m\u001b[0;34m)\u001b[0m\u001b[0;34m\u001b[0m\u001b[0m\n",
      "\u001b[0;31mAnalysisException\u001b[0m: u\"cannot resolve 'is_late' given input columns: [crselapsetime, dayofweek, taxiout, month, probability, carrierdelay, prediction, nasdelay, dayofmonth, lateaircraftdelay, rawPrediction, crsdeptime, airtime, year, securitydelay, cancelled, arrdelay, weatherdelay, actualelapsetime, arrtime, diverted, distance, features, depdelay, crsarrtime, deptime, taxiin];\""
     ]
    }
   ],
   "source": [
    "predicted.select(\"is_late\", \"prediction\").show()"
   ]
  },
  {
   "cell_type": "markdown",
   "metadata": {},
   "source": [
    "Check model performance"
   ]
  },
  {
   "cell_type": "code",
   "execution_count": 25,
   "metadata": {
    "collapsed": false
   },
   "outputs": [
    {
     "name": "stdout",
     "output_type": "stream",
     "text": [
      "+-------+----------+\n",
      "|is_late|prediction|\n",
      "+-------+----------+\n",
      "|    0.0|       0.0|\n",
      "|    0.0|       0.0|\n",
      "|    0.0|       0.0|\n",
      "|    0.0|       0.0|\n",
      "|    1.0|       1.0|\n",
      "|    0.0|       0.0|\n",
      "|    1.0|       0.0|\n",
      "|    1.0|       1.0|\n",
      "|    1.0|       0.0|\n",
      "|    1.0|       1.0|\n",
      "|    1.0|       0.0|\n",
      "|    0.0|       0.0|\n",
      "|    1.0|       1.0|\n",
      "|    0.0|       0.0|\n",
      "|    0.0|       0.0|\n",
      "|    1.0|       1.0|\n",
      "|    0.0|       0.0|\n",
      "|    1.0|       0.0|\n",
      "|    0.0|       0.0|\n",
      "|    1.0|       1.0|\n",
      "+-------+----------+\n",
      "only showing top 20 rows\n",
      "\n"
     ]
    }
   ],
   "source": [
    "predicted = predicted.withColumn(\"is_late\",is_late(predicted.arrdelay))\n",
    "predicted.select(\"is_late\", \"prediction\").show()"
   ]
  },
  {
   "cell_type": "code",
   "execution_count": 26,
   "metadata": {
    "collapsed": false
   },
   "outputs": [
    {
     "name": "stdout",
     "output_type": "stream",
     "text": [
      "+------------------+----+----+\n",
      "|is_late_prediction| 1.0| 0.0|\n",
      "+------------------+----+----+\n",
      "|               1.0|1448|1110|\n",
      "|               0.0|  62|2805|\n",
      "+------------------+----+----+\n",
      "\n"
     ]
    }
   ],
   "source": [
    "predicted.crosstab(\"is_late\",\"prediction\").show()"
   ]
  },
  {
   "cell_type": "code",
   "execution_count": null,
   "metadata": {
    "collapsed": true
   },
   "outputs": [],
   "source": []
  }
 ],
 "metadata": {
  "kernelspec": {
   "display_name": "Python 2",
   "language": "python",
   "name": "python2"
  },
  "language_info": {
   "codemirror_mode": {
    "name": "ipython",
    "version": 2
   },
   "file_extension": ".py",
   "mimetype": "text/x-python",
   "name": "python",
   "nbconvert_exporter": "python",
   "pygments_lexer": "ipython2",
   "version": "2.7.10"
  }
 },
 "nbformat": 4,
 "nbformat_minor": 0
}
